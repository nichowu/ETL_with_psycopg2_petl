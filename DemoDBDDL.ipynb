{
 "cells": [
  {
   "cell_type": "code",
   "execution_count": 1,
   "id": "66ada2aa-502a-4752-a9a4-6ff6b5e9fc79",
   "metadata": {},
   "outputs": [],
   "source": [
    "# DROP TABLE IF EXISTS Expenses;\n",
    "\n",
    "\n",
    "# CREATE TABLE Expenses\n",
    "# (\n",
    "# \tdatse timestamp,\n",
    "# \t\"USD\" money,\n",
    "# \trate DECIMAL(6,5),\n",
    "# \t\"CAD\" money\n",
    "# );"
   ]
  },
  {
   "cell_type": "code",
   "execution_count": null,
   "id": "856dd375-bb6c-4034-bad2-ad5ad3f983fe",
   "metadata": {},
   "outputs": [],
   "source": []
  }
 ],
 "metadata": {
  "kernelspec": {
   "display_name": "Python 3 (ipykernel)",
   "language": "python",
   "name": "python3"
  },
  "language_info": {
   "codemirror_mode": {
    "name": "ipython",
    "version": 3
   },
   "file_extension": ".py",
   "mimetype": "text/x-python",
   "name": "python",
   "nbconvert_exporter": "python",
   "pygments_lexer": "ipython3",
   "version": "3.9.10"
  }
 },
 "nbformat": 4,
 "nbformat_minor": 5
}
